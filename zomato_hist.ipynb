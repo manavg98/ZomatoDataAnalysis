{
 "cells": [
  {
   "cell_type": "code",
   "execution_count": 5,
   "metadata": {},
   "outputs": [],
   "source": [
    "import matplotlib.pyplot as plt"
   ]
  },
  {
   "cell_type": "code",
   "execution_count": 1,
   "metadata": {},
   "outputs": [],
   "source": [
    "import json\n",
    "\n",
    "file1 = open(\"C:\\\\ML and AI\\\\file1.json\",\"r\")\n",
    "d1=json.loads(file1.read())\n",
    "file2 = open(\"C:\\\\ML and AI\\\\file2.json\",\"r\")\n",
    "d2=json.loads(file2.read())\n",
    "file3 = open(\"C:\\\\ML and AI\\\\file3.json\",\"r\")\n",
    "d3=json.loads(file3.read())\n",
    "file4 = open(\"C:\\\\ML and AI\\\\file4.json\",\"r\")\n",
    "d4=json.loads(file4.read())\n",
    "file5 = open(\"C:\\\\ML and AI\\\\file6.json\",\"r\")\n",
    "d5=json.loads(file5.read())\n",
    "\n",
    "jsonlist=[d1,d2,d3,d4,d5]"
   ]
  },
  {
   "cell_type": "code",
   "execution_count": 9,
   "metadata": {},
   "outputs": [],
   "source": [
    "diccl={}\n",
    "idlis=[]\n",
    "rating=[]\n",
    "for d in jsonlist:\n",
    "    for i in range(len(d)):\n",
    "        if(\"restaurants\" in d[i]):\n",
    "            for j in range(len(d[i][\"restaurants\"])):\n",
    "                if (d[i][\"restaurants\"][j][\"restaurant\"][\"id\"] not in idlis):\n",
    "                    idlis.append(d[i][\"restaurants\"][j][\"restaurant\"][\"id\"])\n",
    "                    if(d[i][\"restaurants\"][j][\"restaurant\"][\"location\"][\"city\"] == \"New Delhi\"):\n",
    "                        rating.append(float(d[i][\"restaurants\"][j][\"restaurant\"][\"user_rating\"][\"aggregate_rating\"]))"
   ]
  },
  {
   "cell_type": "code",
   "execution_count": 12,
   "metadata": {},
   "outputs": [
    {
     "data": {
      "text/plain": [
       "(array([1.425e+03, 2.000e+00, 9.270e+02, 2.791e+03, 3.280e+02]),\n",
       " array([0.  , 0.98, 1.96, 2.94, 3.92, 4.9 ]),\n",
       " <a list of 5 Patch objects>)"
      ]
     },
     "execution_count": 12,
     "metadata": {},
     "output_type": "execute_result"
    },
    {
     "data": {
      "image/png": "[encoded data removed]",
      "text/plain": [
       "<Figure size 432x288 with 1 Axes>"
      ]
     },
     "metadata": {},
     "output_type": "display_data"
    }
   ],
   "source": [
    "plt.hist(rating,bins=5)"
   ]
  },
  {
   "cell_type": "code",
   "execution_count": 13,
   "metadata": {},
   "outputs": [
    {
     "data": {
      "text/plain": [
       "5473"
      ]
     },
     "execution_count": 13,
     "metadata": {},
     "output_type": "execute_result"
    }
   ],
   "source": [
    "len(rating)"
   ]
  },
  {
   "cell_type": "code",
   "execution_count": null,
   "metadata": {},
   "outputs": [],
   "source": []
  }
 ],
 "metadata": {
  "kernelspec": {
   "display_name": "Python 3",
   "language": "python",
   "name": "python3"
  },
  "language_info": {
   "codemirror_mode": {
    "name": "ipython",
    "version": 3
   },
   "file_extension": ".py",
   "mimetype": "text/x-python",
   "name": "python",
   "nbconvert_exporter": "python",
   "pygments_lexer": "ipython3",
   "version": "3.6.5"
  }
 },
 "nbformat": 4,
 "nbformat_minor": 2
}
