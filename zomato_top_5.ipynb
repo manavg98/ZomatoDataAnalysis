{
 "cells": [
  {
   "cell_type": "code",
   "execution_count": 5,
   "metadata": {},
   "outputs": [
    {
     "name": "stdout",
     "output_type": "stream",
     "text": [
      "Rank =  1\n",
      "Name =  Toit\n",
      "\n",
      "\n",
      "Rank =  2\n",
      "Name =  Truffles\n",
      "\n",
      "\n",
      "Rank =  3\n",
      "Name =  Hauz Khas Social\n",
      "\n",
      "\n",
      "Rank =  4\n",
      "Name =  Peter Cat\n",
      "\n",
      "\n",
      "Rank =  5\n",
      "Name =  AB's - Absolute Barbecues\n",
      "\n",
      "\n"
     ]
    }
   ],
   "source": [
    "import json\n",
    "x=0.0\n",
    "y=0.0\n",
    "z=0.0\n",
    "i=0\n",
    "j=0\n",
    "flag=0\n",
    "dic={}\n",
    "idlis=[]\n",
    "lis=[0,0,0,0,0]\n",
    "\n",
    "file1 = open(\"C:\\\\ML and AI\\\\file1.json\",\"r\")\n",
    "d1=json.loads(file1.read())\n",
    "file2 = open(\"C:\\\\ML and AI\\\\file2.json\",\"r\")\n",
    "d2=json.loads(file2.read())\n",
    "file3 = open(\"C:\\\\ML and AI\\\\file3.json\",\"r\")\n",
    "d3=json.loads(file3.read())\n",
    "file4 = open(\"C:\\\\ML and AI\\\\file4.json\",\"r\")\n",
    "d4=json.loads(file4.read())\n",
    "file5 = open(\"C:\\\\ML and AI\\\\file6.json\",\"r\")\n",
    "d5=json.loads(file5.read())\n",
    "\n",
    "jsonlist=[d1,d2,d3,d4,d5]\n",
    "for d in jsonlist:\n",
    "    for i in range(len(d)):\n",
    "        if(\"restaurants\" in d[i]):\n",
    "            for j in range(len(d[i][\"restaurants\"])):\n",
    "                if (d[i][\"restaurants\"][j][\"restaurant\"][\"id\"] not in idlis):\n",
    "                    x=float(d[i][\"restaurants\"][j][\"restaurant\"][\"user_rating\"][\"votes\"])\n",
    "                    y=float(d[i][\"restaurants\"][j][\"restaurant\"][\"user_rating\"][\"aggregate_rating\"])\n",
    "                    idlis.append(d[i][\"restaurants\"][j][\"restaurant\"][\"id\"])\n",
    "                    if(lis[0]<x*y):\n",
    "                        if(len(dic)==5):\n",
    "                            del dic[lis[0]]\n",
    "                        lis[0]=x*y\n",
    "                        lis.sort()\n",
    "                        dic[x*y]=d[i][\"restaurants\"][j][\"restaurant\"][\"name\"]\n",
    "            \n",
    "\n",
    "lis.reverse()\n",
    "for i in range(5):\n",
    "    print(\"Rank = \",i+1)\n",
    "    print(\"Name = \",dic[lis[i]])\n",
    "    print(\"\\n\")"
   ]
  },
  {
   "cell_type": "code",
   "execution_count": null,
   "metadata": {},
   "outputs": [],
   "source": []
  }
 ],
 "metadata": {
  "kernelspec": {
   "display_name": "Python 3",
   "language": "python",
   "name": "python3"
  },
  "language_info": {
   "codemirror_mode": {
    "name": "ipython",
    "version": 3
   },
   "file_extension": ".py",
   "mimetype": "text/x-python",
   "name": "python",
   "nbconvert_exporter": "python",
   "pygments_lexer": "ipython3",
   "version": "3.6.5"
  }
 },
 "nbformat": 4,
 "nbformat_minor": 2
}
