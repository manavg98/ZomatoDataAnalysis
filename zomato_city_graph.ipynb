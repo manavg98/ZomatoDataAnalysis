{
 "cells": [
  {
   "cell_type": "code",
   "execution_count": 77,
   "metadata": {},
   "outputs": [],
   "source": [
    "import json\n",
    "\n",
    "file1 = open(\"C:\\\\ML and AI\\\\file1.json\",\"r\")\n",
    "d1=json.loads(file1.read())\n",
    "file2 = open(\"C:\\\\ML and AI\\\\file2.json\",\"r\")\n",
    "d2=json.loads(file2.read())\n",
    "file3 = open(\"C:\\\\ML and AI\\\\file3.json\",\"r\")\n",
    "d3=json.loads(file3.read())\n",
    "file4 = open(\"C:\\\\ML and AI\\\\file4.json\",\"r\")\n",
    "d4=json.loads(file4.read())\n",
    "file5 = open(\"C:\\\\ML and AI\\\\file6.json\",\"r\")\n",
    "d5=json.loads(file5.read())\n",
    "\n",
    "jsonlist=[d1,d2,d3,d4,d5]\n"
   ]
  },
  {
   "cell_type": "code",
   "execution_count": 98,
   "metadata": {},
   "outputs": [],
   "source": [
    "diccl={}\n",
    "idlis=[]\n",
    "for d in jsonlist:\n",
    "    for i in range(len(d)):\n",
    "        if(\"restaurants\" in d[i]):\n",
    "            for j in range(len(d[i][\"restaurants\"])):\n",
    "                if (d[i][\"restaurants\"][j][\"restaurant\"][\"id\"] not in idlis):\n",
    "                    idlis.append(d[i][\"restaurants\"][j][\"restaurant\"][\"id\"])\n",
    "                    if(d[i][\"restaurants\"][j][\"restaurant\"][\"location\"][\"city\"] not in diccl):\n",
    "                        diccl[d[i][\"restaurants\"][j][\"restaurant\"][\"location\"][\"city\"]]=0\n",
    "                    if(float(d[i][\"restaurants\"][j][\"restaurant\"][\"user_rating\"][\"aggregate_rating\"])>4.0):\n",
    "                        diccl[d[i][\"restaurants\"][j][\"restaurant\"][\"location\"][\"city\"]]+=1"
   ]
  },
  {
   "cell_type": "code",
   "execution_count": 111,
   "metadata": {},
   "outputs": [],
   "source": [
    "l=sorted(diccl.items(),key=lambda x:x[1],reverse=True)"
   ]
  },
  {
   "cell_type": "code",
   "execution_count": 115,
   "metadata": {},
   "outputs": [],
   "source": [
    "x=[]\n",
    "y=[]\n",
    "for i in range(6):\n",
    "    x.append(l[i][0])\n",
    "    y.append(l[i][1])"
   ]
  },
  {
   "cell_type": "code",
   "execution_count": 116,
   "metadata": {},
   "outputs": [],
   "source": [
    "import matplotlib.pyplot as plt"
   ]
  },
  {
   "cell_type": "code",
   "execution_count": 117,
   "metadata": {},
   "outputs": [
    {
     "data": {
      "text/plain": [
       "[<matplotlib.lines.Line2D at 0xe25c3c79e8>]"
      ]
     },
     "execution_count": 117,
     "metadata": {},
     "output_type": "execute_result"
    },
    {
     "data": {
      "image/png": "[encoded data removed]",
      "text/plain": [
       "<Figure size 432x288 with 1 Axes>"
      ]
     },
     "metadata": {},
     "output_type": "display_data"
    }
   ],
   "source": [
    "plt.plot(x,y)"
   ]
  },
  {
   "cell_type": "code",
   "execution_count": 103,
   "metadata": {},
   "outputs": [
    {
     "data": {
      "text/plain": [
       "142"
      ]
     },
     "execution_count": 103,
     "metadata": {},
     "output_type": "execute_result"
    }
   ],
   "source": [
    "len(l)"
   ]
  },
  {
   "cell_type": "code",
   "execution_count": 104,
   "metadata": {},
   "outputs": [],
   "source": [
    "sum=0\n",
    "for i in range(4):\n",
    "    sum+=len(jsonlist[i])"
   ]
  },
  {
   "cell_type": "code",
   "execution_count": 105,
   "metadata": {},
   "outputs": [
    {
     "data": {
      "text/plain": [
       "2058"
      ]
     },
     "execution_count": 105,
     "metadata": {},
     "output_type": "execute_result"
    }
   ],
   "source": [
    "sum"
   ]
  },
  {
   "cell_type": "code",
   "execution_count": null,
   "metadata": {},
   "outputs": [],
   "source": []
  }
 ],
 "metadata": {
  "kernelspec": {
   "display_name": "Python 3",
   "language": "python",
   "name": "python3"
  },
  "language_info": {
   "codemirror_mode": {
    "name": "ipython",
    "version": 3
   },
   "file_extension": ".py",
   "mimetype": "text/x-python",
   "name": "python",
   "nbconvert_exporter": "python",
   "pygments_lexer": "ipython3",
   "version": "3.6.5"
  }
 },
 "nbformat": 4,
 "nbformat_minor": 2
}
